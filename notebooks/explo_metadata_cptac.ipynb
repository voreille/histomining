{
 "cells": [
  {
   "cell_type": "code",
   "execution_count": 1,
   "id": "f44a60a7",
   "metadata": {},
   "outputs": [],
   "source": [
    "import pandas as pd"
   ]
  },
  {
   "cell_type": "code",
   "execution_count": 2,
   "id": "bc7c19a8",
   "metadata": {},
   "outputs": [],
   "source": [
    "luad_metadata_path = \"/mnt/nas6/data/CPTAC/TCIA_CPTAC_LUAD_Pathology_Data_Table.csv\"\n",
    "luad_df = pd.read_csv(luad_metadata_path)\n",
    "lscc_metadata_path = \"/mnt/nas6/data/CPTAC/TCIA_CPTAC_LSCC_Pathology_Data_Table.csv\"\n",
    "lscc_df = pd.read_csv(lscc_metadata_path)\n"
   ]
  },
  {
   "cell_type": "code",
   "execution_count": 3,
   "id": "78bba2e4",
   "metadata": {},
   "outputs": [],
   "source": [
    "def filter_df(df):\n",
    "    return df[(df[\"Specimen_Type\"] == \"normal_tissue\") & (df[\"Embedding_Medium\"] == \"FFPE\")]"
   ]
  },
  {
   "cell_type": "code",
   "execution_count": 4,
   "id": "4c80bdb2",
   "metadata": {},
   "outputs": [],
   "source": [
    "luad_df = filter_df(luad_df)\n",
    "luscc_df = filter_df(lscc_df)"
   ]
  },
  {
   "cell_type": "code",
   "execution_count": 5,
   "id": "2d923574",
   "metadata": {},
   "outputs": [
    {
     "data": {
      "text/plain": [
       "(364, 32)"
      ]
     },
     "execution_count": 5,
     "metadata": {},
     "output_type": "execute_result"
    }
   ],
   "source": [
    "luad_df.shape"
   ]
  },
  {
   "cell_type": "code",
   "execution_count": 6,
   "id": "1ce98dfe",
   "metadata": {},
   "outputs": [
    {
     "data": {
      "text/plain": [
       "(219,)"
      ]
     },
     "execution_count": 6,
     "metadata": {},
     "output_type": "execute_result"
    }
   ],
   "source": [
    "luad_df[\"Case_ID\"].unique().shape"
   ]
  },
  {
   "cell_type": "code",
   "execution_count": 7,
   "id": "c51cc710",
   "metadata": {},
   "outputs": [
    {
     "data": {
      "text/plain": [
       "(379, 32)"
      ]
     },
     "execution_count": 7,
     "metadata": {},
     "output_type": "execute_result"
    }
   ],
   "source": [
    "luscc_df.shape"
   ]
  },
  {
   "cell_type": "code",
   "execution_count": 8,
   "id": "843ea38f",
   "metadata": {},
   "outputs": [
    {
     "data": {
      "text/plain": [
       "(204,)"
      ]
     },
     "execution_count": 8,
     "metadata": {},
     "output_type": "execute_result"
    }
   ],
   "source": [
    "luscc_df[\"Case_ID\"].unique().shape"
   ]
  },
  {
   "cell_type": "code",
   "execution_count": 9,
   "id": "7b6fae2e",
   "metadata": {},
   "outputs": [
    {
     "data": {
      "text/html": [
       "<div>\n",
       "<style scoped>\n",
       "    .dataframe tbody tr th:only-of-type {\n",
       "        vertical-align: middle;\n",
       "    }\n",
       "\n",
       "    .dataframe tbody tr th {\n",
       "        vertical-align: top;\n",
       "    }\n",
       "\n",
       "    .dataframe thead th {\n",
       "        text-align: right;\n",
       "    }\n",
       "</style>\n",
       "<table border=\"1\" class=\"dataframe\">\n",
       "  <thead>\n",
       "    <tr style=\"text-align: right;\">\n",
       "      <th></th>\n",
       "      <th>Case_ID</th>\n",
       "      <th>Specimen_ID</th>\n",
       "      <th>Slide_ID</th>\n",
       "      <th>Embedding_Medium</th>\n",
       "      <th>Pathology</th>\n",
       "      <th>HasRadiology</th>\n",
       "      <th>Radiology</th>\n",
       "      <th>Genomics_Available</th>\n",
       "      <th>Genomics</th>\n",
       "      <th>GDC_Link</th>\n",
       "      <th>...</th>\n",
       "      <th>Percent_Total_Cellularity</th>\n",
       "      <th>Percent_Necrosis</th>\n",
       "      <th>Normal_Segment_Free_of_Tumor</th>\n",
       "      <th>Gender</th>\n",
       "      <th>Age</th>\n",
       "      <th>Ethnicity</th>\n",
       "      <th>Race</th>\n",
       "      <th>Vital_status_at_12months_follow_up</th>\n",
       "      <th>Vital_status_at_24months_follow_up</th>\n",
       "      <th>Last_Known_vital_status</th>\n",
       "    </tr>\n",
       "  </thead>\n",
       "  <tbody>\n",
       "    <tr>\n",
       "      <th>5</th>\n",
       "      <td>C3L-00001</td>\n",
       "      <td>C3L-00001-06</td>\n",
       "      <td>C3L-00001-26</td>\n",
       "      <td>FFPE</td>\n",
       "      <td>215963</td>\n",
       "      <td>no</td>\n",
       "      <td>NaN</td>\n",
       "      <td>Available</td>\n",
       "      <td>C3L-00001</td>\n",
       "      <td>https://portal.gdc.cancer.gov/cases/13310f38-a...</td>\n",
       "      <td>...</td>\n",
       "      <td>-1</td>\n",
       "      <td>-1</td>\n",
       "      <td>Yes</td>\n",
       "      <td>Female</td>\n",
       "      <td>61</td>\n",
       "      <td>Not Hispanic or Latino</td>\n",
       "      <td>White</td>\n",
       "      <td>Living</td>\n",
       "      <td>Living</td>\n",
       "      <td>Alive</td>\n",
       "    </tr>\n",
       "    <tr>\n",
       "      <th>7</th>\n",
       "      <td>C3L-00009</td>\n",
       "      <td>C3L-00009-06</td>\n",
       "      <td>C3L-00009-26</td>\n",
       "      <td>FFPE</td>\n",
       "      <td>215965</td>\n",
       "      <td>no</td>\n",
       "      <td>NaN</td>\n",
       "      <td>Available</td>\n",
       "      <td>C3L-00009</td>\n",
       "      <td>https://portal.gdc.cancer.gov/cases/208b87e8-f...</td>\n",
       "      <td>...</td>\n",
       "      <td>-1</td>\n",
       "      <td>-1</td>\n",
       "      <td>Yes</td>\n",
       "      <td>Male</td>\n",
       "      <td>76</td>\n",
       "      <td>Not Hispanic or Latino</td>\n",
       "      <td>White</td>\n",
       "      <td>Living</td>\n",
       "      <td>Deceased</td>\n",
       "      <td>Dead</td>\n",
       "    </tr>\n",
       "    <tr>\n",
       "      <th>9</th>\n",
       "      <td>C3L-00080</td>\n",
       "      <td>C3L-00080-06</td>\n",
       "      <td>C3L-00080-26</td>\n",
       "      <td>FFPE</td>\n",
       "      <td>215967</td>\n",
       "      <td>no</td>\n",
       "      <td>NaN</td>\n",
       "      <td>Available</td>\n",
       "      <td>C3L-00080</td>\n",
       "      <td>https://portal.gdc.cancer.gov/cases/d4f90900-3...</td>\n",
       "      <td>...</td>\n",
       "      <td>-1</td>\n",
       "      <td>-1</td>\n",
       "      <td>Yes</td>\n",
       "      <td>Male</td>\n",
       "      <td>58</td>\n",
       "      <td>Not Hispanic or Latino</td>\n",
       "      <td>White</td>\n",
       "      <td>Living</td>\n",
       "      <td>Living</td>\n",
       "      <td>Alive</td>\n",
       "    </tr>\n",
       "    <tr>\n",
       "      <th>11</th>\n",
       "      <td>C3L-00083</td>\n",
       "      <td>C3L-00083-06</td>\n",
       "      <td>C3L-00083-26</td>\n",
       "      <td>FFPE</td>\n",
       "      <td>215969</td>\n",
       "      <td>no</td>\n",
       "      <td>NaN</td>\n",
       "      <td>Available</td>\n",
       "      <td>C3L-00083</td>\n",
       "      <td>https://portal.gdc.cancer.gov/cases/e8d31ee4-8...</td>\n",
       "      <td>...</td>\n",
       "      <td>-1</td>\n",
       "      <td>-1</td>\n",
       "      <td>Yes</td>\n",
       "      <td>Male</td>\n",
       "      <td>71</td>\n",
       "      <td>Not Hispanic or Latino</td>\n",
       "      <td>White</td>\n",
       "      <td>Living</td>\n",
       "      <td>Living</td>\n",
       "      <td>Alive</td>\n",
       "    </tr>\n",
       "    <tr>\n",
       "      <th>13</th>\n",
       "      <td>C3L-00093</td>\n",
       "      <td>C3L-00093-06</td>\n",
       "      <td>C3L-00093-26</td>\n",
       "      <td>FFPE</td>\n",
       "      <td>215971</td>\n",
       "      <td>no</td>\n",
       "      <td>NaN</td>\n",
       "      <td>Available</td>\n",
       "      <td>C3L-00093</td>\n",
       "      <td>https://portal.gdc.cancer.gov/cases/1a180fc6-b...</td>\n",
       "      <td>...</td>\n",
       "      <td>-1</td>\n",
       "      <td>-1</td>\n",
       "      <td>Yes</td>\n",
       "      <td>Female</td>\n",
       "      <td>66</td>\n",
       "      <td>Not Hispanic or Latino</td>\n",
       "      <td>White</td>\n",
       "      <td>Living</td>\n",
       "      <td>Living</td>\n",
       "      <td>Dead</td>\n",
       "    </tr>\n",
       "  </tbody>\n",
       "</table>\n",
       "<p>5 rows × 32 columns</p>\n",
       "</div>"
      ],
      "text/plain": [
       "      Case_ID   Specimen_ID      Slide_ID Embedding_Medium  Pathology  \\\n",
       "5   C3L-00001  C3L-00001-06  C3L-00001-26             FFPE     215963   \n",
       "7   C3L-00009  C3L-00009-06  C3L-00009-26             FFPE     215965   \n",
       "9   C3L-00080  C3L-00080-06  C3L-00080-26             FFPE     215967   \n",
       "11  C3L-00083  C3L-00083-06  C3L-00083-26             FFPE     215969   \n",
       "13  C3L-00093  C3L-00093-06  C3L-00093-26             FFPE     215971   \n",
       "\n",
       "   HasRadiology Radiology Genomics_Available   Genomics  \\\n",
       "5            no       NaN          Available  C3L-00001   \n",
       "7            no       NaN          Available  C3L-00009   \n",
       "9            no       NaN          Available  C3L-00080   \n",
       "11           no       NaN          Available  C3L-00083   \n",
       "13           no       NaN          Available  C3L-00093   \n",
       "\n",
       "                                             GDC_Link  ...  \\\n",
       "5   https://portal.gdc.cancer.gov/cases/13310f38-a...  ...   \n",
       "7   https://portal.gdc.cancer.gov/cases/208b87e8-f...  ...   \n",
       "9   https://portal.gdc.cancer.gov/cases/d4f90900-3...  ...   \n",
       "11  https://portal.gdc.cancer.gov/cases/e8d31ee4-8...  ...   \n",
       "13  https://portal.gdc.cancer.gov/cases/1a180fc6-b...  ...   \n",
       "\n",
       "   Percent_Total_Cellularity Percent_Necrosis Normal_Segment_Free_of_Tumor  \\\n",
       "5                         -1               -1                          Yes   \n",
       "7                         -1               -1                          Yes   \n",
       "9                         -1               -1                          Yes   \n",
       "11                        -1               -1                          Yes   \n",
       "13                        -1               -1                          Yes   \n",
       "\n",
       "    Gender Age               Ethnicity   Race  \\\n",
       "5   Female  61  Not Hispanic or Latino  White   \n",
       "7     Male  76  Not Hispanic or Latino  White   \n",
       "9     Male  58  Not Hispanic or Latino  White   \n",
       "11    Male  71  Not Hispanic or Latino  White   \n",
       "13  Female  66  Not Hispanic or Latino  White   \n",
       "\n",
       "    Vital_status_at_12months_follow_up Vital_status_at_24months_follow_up  \\\n",
       "5                               Living                             Living   \n",
       "7                               Living                           Deceased   \n",
       "9                               Living                             Living   \n",
       "11                              Living                             Living   \n",
       "13                              Living                             Living   \n",
       "\n",
       "   Last_Known_vital_status  \n",
       "5                    Alive  \n",
       "7                     Dead  \n",
       "9                    Alive  \n",
       "11                   Alive  \n",
       "13                    Dead  \n",
       "\n",
       "[5 rows x 32 columns]"
      ]
     },
     "execution_count": 9,
     "metadata": {},
     "output_type": "execute_result"
    }
   ],
   "source": [
    "luad_df.head()"
   ]
  },
  {
   "cell_type": "code",
   "execution_count": null,
   "id": "42c40c8a",
   "metadata": {},
   "outputs": [],
   "source": []
  }
 ],
 "metadata": {
  "kernelspec": {
   "display_name": "torchpl",
   "language": "python",
   "name": "python3"
  },
  "language_info": {
   "codemirror_mode": {
    "name": "ipython",
    "version": 3
   },
   "file_extension": ".py",
   "mimetype": "text/x-python",
   "name": "python",
   "nbconvert_exporter": "python",
   "pygments_lexer": "ipython3",
   "version": "3.11.0"
  }
 },
 "nbformat": 4,
 "nbformat_minor": 5
}
